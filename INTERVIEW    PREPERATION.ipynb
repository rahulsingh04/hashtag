{
 "cells": [
  {
   "cell_type": "code",
   "execution_count": null,
   "metadata": {},
   "outputs": [],
   "source": [
    "\n",
    "# Factorial of the number using recursive method\n",
    "\n",
    "def fact(n):\n",
    "    return 1 if(n==1 or n==0) else (n*fact(n-1))\n",
    "n=int(input(\"NUMBER   DAAALO\"))\n",
    "print(fact(n))"
   ]
  },
  {
   "cell_type": "code",
   "execution_count": null,
   "metadata": {},
   "outputs": [],
   "source": [
    "# Factorial of the number using built in function\n",
    "\n",
    "import math \n",
    "def f(n):\n",
    "    return(math.factorial(n))\n",
    "n=int(input(\"enter the number\"))\n",
    "print(f(n))"
   ]
  },
  {
   "cell_type": "code",
   "execution_count": 2,
   "metadata": {},
   "outputs": [
    {
     "name": "stdout",
     "output_type": "stream",
     "text": [
      "enter the number153\n",
      "armstron number\n"
     ]
    }
   ],
   "source": [
    "##### armstrong number\n",
    "\n",
    "\n",
    "num=int(input(\"enter the number\"))\n",
    "sum=0\n",
    "temp=num\n",
    "while temp>0:\n",
    "    digit=temp%10\n",
    "    sum+=digit**3\n",
    "    temp//=10\n",
    "if num==sum:\n",
    "        print(\"armstron number\")\n",
    "            "
   ]
  },
  {
   "cell_type": "code",
   "execution_count": null,
   "metadata": {},
   "outputs": [],
   "source": []
  },
  {
   "cell_type": "code",
   "execution_count": null,
   "metadata": {},
   "outputs": [],
   "source": [
    "# PRIME NUMBER:---------------\n",
    "\n",
    "n=int(input(\"enter the number\"))\n",
    "if n>0:\n",
    "            for i in range(2,n):\n",
    "                if (n%i)==0:\n",
    "                    print(\"NOT PRIME NUMBER\")\n",
    "                    print(i, \"times\", n//i, 'is',n)\n",
    "                    break\n",
    "            \n",
    "            else:\n",
    "                print(\"prime number\")\n",
    "else:\n",
    "    print(\"the given number is not a prime number\")\n",
    "            "
   ]
  },
  {
   "cell_type": "markdown",
   "metadata": {},
   "source": [
    "#### "
   ]
  },
  {
   "cell_type": "code",
   "execution_count": 3,
   "metadata": {},
   "outputs": [
    {
     "name": "stdout",
     "output_type": "stream",
     "text": [
      "enter the lower range :--10\n",
      "enter the lower range  :--20\n",
      "11\n",
      "13\n",
      "17\n",
      "19\n"
     ]
    }
   ],
   "source": [
    "#TO FIND A PRIME NUMBER IN A GIVEN RANGE:-----\n",
    "\n",
    "\n",
    "l= int(input(\"enter the lower range :--\"))\n",
    "u=int(input(\"enter the lower range  :--\"))\n",
    "\n",
    "for num in range(l, u+1):\n",
    "    if num>1:\n",
    "        for i in range(2, num):\n",
    "            if (num%i)==0:\n",
    "                break\n",
    "        else:\n",
    "            (print(num))"
   ]
  },
  {
   "cell_type": "code",
   "execution_count": null,
   "metadata": {},
   "outputs": [],
   "source": [
    "#TO FIND THE ASCII VALUE OF THE CHARACTER:----\n",
    "\n",
    "text= input(\"enter the  text which you want to get convert into an ascii code\")\n",
    "for char in text:\n",
    "    ascii= ord(char)\n",
    "    print(char,\"\\t\", ascii)\n"
   ]
  },
  {
   "cell_type": "code",
   "execution_count": null,
   "metadata": {},
   "outputs": [],
   "source": [
    "#TO FIND THE SUM OF THE SQUARE OF THE N NATURAL NUMBER:------\n",
    "\n",
    "def squaresum(n):\n",
    "    sum=0\n",
    "    for i in range(1, n+1):\n",
    "        sum+= (i*i)\n",
    "    return sum\n",
    "n=int(input(\"enter the number\"))\n",
    "print(squaresum(n))\n",
    "\n",
    "        "
   ]
  },
  {
   "cell_type": "code",
   "execution_count": null,
   "metadata": {},
   "outputs": [],
   "source": [
    "def squaresum(n):\n",
    "    sum= 0\n",
    "    for i in range(1, n+1):\n",
    "        sum= sum+(i**2)\n",
    "    return sum\n",
    "n=int(input(\"enter the number\"))\n",
    "print(squaresum(n))\n"
   ]
  },
  {
   "cell_type": "code",
   "execution_count": null,
   "metadata": {},
   "outputs": [],
   "source": [
    "#TO FIND THE CUBE IN THE GIVEN REASON:-----\n",
    "\n",
    "def cube(n):\n",
    "    sum= 0\n",
    "    for i in range(1, n+1):\n",
    "        sum=sum+(i**3)\n",
    "    return(sum)\n",
    "n=int(input(\"enter the number\"))\n",
    "print(cube(n))\n",
    "\n",
    "\n",
    "\n",
    "    "
   ]
  },
  {
   "cell_type": "code",
   "execution_count": null,
   "metadata": {},
   "outputs": [],
   "source": [
    "def f(n):\n",
    "    return 1 if (n==0 or n==1) else (n*f(n-1))\n",
    "n=int(input(\"enter the number\"))\n",
    "print(f(n))  "
   ]
  },
  {
   "cell_type": "code",
   "execution_count": null,
   "metadata": {},
   "outputs": [],
   "source": [
    "# SUM  IN AN ARRAY:--\n",
    "\n",
    "rang=int(input(\"ente the range  of the array\"))\n",
    "arr= []\n",
    "for i in range (1, rang+1):\n",
    "    n=int(input(\"enter the number\"))\n",
    "    arr.append(n)\n",
    "print(arr)\n",
    "\n",
    "\n",
    "def sum(arr):\n",
    "    sum=0\n",
    "    for i in arr:\n",
    "        sum= sum+i\n",
    "    return(sum)\n",
    "print(sum(arr))\n",
    "    \n",
    "    "
   ]
  },
  {
   "cell_type": "markdown",
   "metadata": {},
   "source": []
  },
  {
   "cell_type": "code",
   "execution_count": null,
   "metadata": {},
   "outputs": [],
   "source": [
    "rang= int(input(\"Enter The Range Of The Array:--\"))\n",
    "arr= []\n",
    "for i in range(1, rang+1):\n",
    "    n=int(input(\"enter the element of the array\"))\n",
    "    arr.append(n)\n",
    "print(arr)\n",
    "\n",
    "def sum(arr):\n",
    "    sum= 0\n",
    "    for i in (arr):\n",
    "        sum= sum+i\n",
    "    return sum\n",
    "print(sum(arr))"
   ]
  },
  {
   "cell_type": "markdown",
   "metadata": {},
   "source": [
    "# "
   ]
  },
  {
   "cell_type": "code",
   "execution_count": null,
   "metadata": {},
   "outputs": [],
   "source": [
    "rang=int(input(\"enter the number\"))\n",
    "arr=[]\n",
    "for i in range(1, rang+1):\n",
    "    n=int(input(\"enter the nmber\"))\n",
    "    arr.append(n)\n",
    "print(arr)\n",
    "\n",
    "def sum(arr):\n",
    "    sum=0\n",
    "    for i in (arr):\n",
    "        sum= sum+i\n",
    "    return sum\n",
    "print(sum(arr))\n",
    "print(len(arr))\n",
    "ans= arr.sort()\n",
    "print(ans)"
   ]
  },
  {
   "cell_type": "markdown",
   "metadata": {},
   "source": [
    "##### "
   ]
  },
  {
   "cell_type": "code",
   "execution_count": null,
   "metadata": {},
   "outputs": [],
   "source": [
    "### HACKERRANK:----\n",
    "\n"
   ]
  },
  {
   "cell_type": "code",
   "execution_count": null,
   "metadata": {},
   "outputs": [],
   "source": [
    "if __name__ ==\"main\":\n",
    "    n=int(input)\n",
    "    student_marks={}\n",
    "    for _i in range(n):\n",
    "        name, *line=input().split()\n",
    "        scores=list(map(float,line))\n",
    "        student_marks[name]= scores\n",
    "    query_name=input()\n",
    "\n",
    "print('{0, 2f}'.format(sum(student_marks[query_name])))"
   ]
  },
  {
   "cell_type": "markdown",
   "metadata": {},
   "source": []
  },
  {
   "cell_type": "code",
   "execution_count": null,
   "metadata": {},
   "outputs": [],
   "source": [
    "if __name__ == '__main__':\n",
    "    n = int(input())\n",
    "    # dictionary to store the marks, key = name, value = list of scores\n",
    "    student_marks = {}\n",
    "    # read in all the records and store in the dictionary\n",
    "    for _ in range(n):\n",
    "        name, *line = input().split()\n",
    "        scores = list(map(float, line))\n",
    "        student_marks[name] = scores\n",
    "    # query_name is the key value to retrieve\n",
    "    query_name = input()\n",
    "#\n",
    "# divide the sum of the scores list by the length of the scores list\n",
    "# format to 2 places after the decimal and print to STDOUT\n",
    "#\n",
    "# the solution:\n",
    "\n",
    "print(__name__ == '__main__')"
   ]
  },
  {
   "cell_type": "code",
   "execution_count": 4,
   "metadata": {},
   "outputs": [
    {
     "name": "stdout",
     "output_type": "stream",
     "text": [
      "5\n",
      "12\n",
      "34\n",
      "32\n",
      "21\n",
      "43\n",
      "[12, 34, 32, 21, 43]\n",
      "[12, 21, 32, 34, 43]\n",
      "34\n"
     ]
    }
   ],
   "source": [
    "##   FIND THE RUNNER UP NUMBER:---- second highest number\n",
    "\n",
    "\n",
    "n=int(input())\n",
    "arr=[]\n",
    "\n",
    "for i in range(0,n):\n",
    "    n=int(input())\n",
    "    arr.append(n)\n",
    "print(arr)\n",
    "arr.sort()\n",
    "print(arr)\n",
    "print(arr[-2])"
   ]
  },
  {
   "cell_type": "code",
   "execution_count": null,
   "metadata": {},
   "outputs": [],
   "source": [
    "arr = []\n",
    "for i in range(int(raw_input())):\n",
    "    s = raw_input().split()\n",
    "    for i in range(1,len(s)):\n",
    "        s[i] = int(s[i])\n",
    "        \n",
    "    if s[0] == \"append\":\n",
    "        arr.append(s[1])\n",
    "    elif s[0] == \"extend\":    \n",
    "        arr.extend(s[1:])\n",
    "    elif s[0] == \"insert\":\n",
    "        arr.insert(s[1],s[2])\n",
    "    elif s[0] == \"remove\":\n",
    "        arr.remove(s[1])\n",
    "    elif s[0] == \"pop\":\n",
    "        arr.pop()\n",
    "    elif s[0] == \"index\":\n",
    "        #print arr.index(s[1])\n",
    "    elif s[0] == \"count\":\n",
    "        print arr.count(s[1])\n",
    "    elif s[0] == \"sort\":\n",
    "        arr.sort()\n",
    "    elif s[0] == \"reverse\":\n",
    "        arr.reverse()\n",
    "    elif s[0] == \"print\":\n",
    "        print arr"
   ]
  },
  {
   "cell_type": "code",
   "execution_count": 8,
   "metadata": {},
   "outputs": [
    {
     "name": "stdout",
     "output_type": "stream",
     "text": [
      "rahul singh rajput\n",
      "sonu singh rajput\n",
      "0\n"
     ]
    }
   ],
   "source": [
    "A = input().strip()\n",
    "x = input().strip()\n",
    "\n",
    "count = 0\n",
    "for i in range(len(A) - len(x) + 1):\n",
    "    if A[i:i+len(x)] == x:\n",
    "        count += 1\n",
    "print(count)\n",
    "\n",
    "\n"
   ]
  },
  {
   "cell_type": "code",
   "execution_count": null,
   "metadata": {},
   "outputs": [],
   "source": [
    "arr=[]\n",
    "for i in range(1, 4)\n",
    "    n=int(input(\"enter the number\"))\n",
    "    arr.append(n)\n",
    "print(arr)"
   ]
  },
  {
   "cell_type": "code",
   "execution_count": null,
   "metadata": {},
   "outputs": [],
   "source": [
    "rang= int(input(\"Enter The Range Of The Array:--\"))\n",
    "arr= []\n",
    "for i in range(1, rang+1):\n",
    "    n=int(input(\"enter the element of the array\"))\n",
    "    arr.append(n)\n",
    "print(arr)\n",
    "\n",
    "def sum(arr):\n",
    "    sum= 0\n",
    "    for i in (arr):\n",
    "        sum= sum+i\n",
    "    return sum\n",
    "print(sum(arr))"
   ]
  },
  {
   "cell_type": "code",
   "execution_count": null,
   "metadata": {},
   "outputs": [],
   "source": [
    "ranges=int(input(\"ENter the range of the array\"))\n",
    "arr=[]\n",
    "for i in range(1, ranges+1):\n",
    "    n=int(input(\"enter the number\"))\n",
    "    arr.append(n)\n",
    "print(arr)\n",
    "def sum(arr):\n",
    "    sum=0\n",
    "    for i in arr:\n",
    "        sum+=i\n",
    "    return sum\n",
    "print(sum(arr))"
   ]
  },
  {
   "cell_type": "markdown",
   "metadata": {},
   "source": [
    "###### "
   ]
  },
  {
   "cell_type": "code",
   "execution_count": null,
   "metadata": {},
   "outputs": [],
   "source": [
    "ranges=int(input(\"ENter the range of the array\"))\n",
    "arr=[]\n",
    "for i in range(1, ranges+1):\n",
    "    n=int(input(\"enter the number\"))\n",
    "    arr.append(n)\n",
    "print(arr)\n",
    "arr.sort()\n",
    "print(arr)\n"
   ]
  },
  {
   "cell_type": "markdown",
   "metadata": {},
   "source": [
    "##### def sum(arr):\n",
    "    for i in arr:\n",
    "        sum=0\n",
    "        sum+=i\n",
    "    return sum\n",
    "print(sum(arr))\n",
    "        \n",
    "        \n",
    "     \n",
    "    \n"
   ]
  },
  {
   "cell_type": "code",
   "execution_count": null,
   "metadata": {},
   "outputs": [],
   "source": [
    "def sum(arr):\n",
    "    sum=0\n",
    "    for i in arr:\n",
    "        sum+=i\n",
    "    return sum\n",
    "print(sum(arr))"
   ]
  },
  {
   "cell_type": "code",
   "execution_count": null,
   "metadata": {},
   "outputs": [],
   "source": [
    "def square(arr):\n",
    "    sum=0\n",
    "    for i in arr:\n",
    "        sum+=i*i\n",
    "    return sum\n",
    "print(square(arr))"
   ]
  },
  {
   "cell_type": "code",
   "execution_count": null,
   "metadata": {},
   "outputs": [],
   "source": [
    "def sum(arr):\n",
    "    sum=0\n",
    "    for i in arr:\n",
    "        sum+=i*i\n",
    "    return sum\n",
    "print(sum(arr))"
   ]
  },
  {
   "cell_type": "code",
   "execution_count": 9,
   "metadata": {},
   "outputs": [
    {
     "name": "stdout",
     "output_type": "stream",
     "text": [
      "['rahul', 2, 3, 4, 56, 6, 7, 8, 9, 1]\n"
     ]
    }
   ],
   "source": [
    "def swap(list):\n",
    "    list[0], list[-1] = list[-1], list[0]\n",
    "    return list\n",
    "list=[1,2,3,4,56,6,7,8,9,'rahul']\n",
    "print(swap(list))"
   ]
  },
  {
   "cell_type": "code",
   "execution_count": null,
   "metadata": {},
   "outputs": [],
   "source": [
    "list=[1,2,3,4,56,6,7,8,9,'rahul']\n",
    "n=list[::-1]\n",
    "n"
   ]
  },
  {
   "cell_type": "code",
   "execution_count": null,
   "metadata": {},
   "outputs": [],
   "source": [
    "name=input(\"ENTER YOUR NAME\")\n",
    "name= name[::-1]\n",
    "print(name)"
   ]
  },
  {
   "cell_type": "code",
   "execution_count": null,
   "metadata": {},
   "outputs": [],
   "source": [
    "n=int(input(\"enter the number\"))\n",
    "if n>0:\n",
    "    for i in range(2, n):\n",
    "        if (n%i)==0:\n",
    "            print(\"Not prime number\")\n",
    "            break\n",
    "    else:\n",
    "        print(\"the given number is the prime number \")"
   ]
  },
  {
   "cell_type": "code",
   "execution_count": null,
   "metadata": {},
   "outputs": [],
   "source": [
    "# PRIME NUMBER:---------------\n",
    "\n",
    "n=int(input(\"enter the number\"))\n",
    "if n>0:\n",
    "            for i in range(2,n):\n",
    "                if (n%i)==0:\n",
    "                    print(\"NOT PRIME NUMBER\")\n",
    "                    print(i, \"times\", n//i, 'is',n)\n",
    "                    break\n",
    "            \n",
    "            else:\n",
    "                print(i)\n",
    "else:\n",
    "    print(\"the given number is not a prime number\")\n",
    "            "
   ]
  },
  {
   "cell_type": "code",
   "execution_count": null,
   "metadata": {},
   "outputs": [],
   "source": [
    "#### MONKEY _____PATCHING:_--------"
   ]
  },
  {
   "cell_type": "code",
   "execution_count": null,
   "metadata": {},
   "outputs": [],
   "source": [
    "class test:\n",
    "    def __init__(self,x):\n",
    "        self.a=x\n",
    "    def get_data(self):\n",
    "        print(\"Some code to fetch data from the database\")\n",
    "    def f1(self):\n",
    "        self.get_data()\n",
    "    def f2(self):\n",
    "        self.get_data()\n",
    "\n",
    "t1=test(0)\n",
    "t1.f1()\n",
    "t1.f2()\n",
    "    \n",
    "        \n",
    "def new_get_data(self):\n",
    "    print(\"____SOME CODE TO FETCH DATA FROM THE DUMMY TEST----\")\n",
    "test.get_data= new_get_data\n",
    "print(\"AFTER THE MONKEY PATCHING\")\n",
    "t1.f1()\n",
    "t1.f2()\n"
   ]
  },
  {
   "cell_type": "code",
   "execution_count": null,
   "metadata": {},
   "outputs": [],
   "source": [
    "def average(*t):\n",
    "    avg= sum(t)/len(t)\n",
    "    print(\"Average is is\", avg)\n",
    "average(10, 15, 34 ,67, 5)"
   ]
  },
  {
   "cell_type": "code",
   "execution_count": null,
   "metadata": {},
   "outputs": [],
   "source": [
    "#   DECORATOR_in_PYTHON\n",
    "def decor_result(result_function):\n",
    "    def distinction(marks):\n",
    "        for m in marks:\n",
    "            if m>75:\n",
    "                print(\" distinction\")\n",
    "        result_function(marks)\n",
    "    return distinction\n",
    "@decor_result\n",
    "\n",
    "def result(marks):\n",
    "    for m in marks:\n",
    "        if m>=33:\n",
    "            pass\n",
    "        else:\n",
    "            print(\"FAIL\")\n",
    "            break\n",
    "    else:\n",
    "        print(\"pass\")\n",
    "result([50,30,70,80,90])"
   ]
  },
  {
   "cell_type": "code",
   "execution_count": null,
   "metadata": {},
   "outputs": [],
   "source": [
    "# ANNONNYMOUS FUNCTION\n",
    "x=int(input(\"Enter the number\"))\n",
    "y=int(input(\"Enter the number\"))\n",
    "minus= lambda x, y:x-y\n",
    "print(minus(x, y))\n",
    "\n"
   ]
  },
  {
   "cell_type": "markdown",
   "metadata": {},
   "source": [
    "😂❤🤣🤣🤣😂😂😂😊🎭🎭🎭🎪🎪"
   ]
  },
  {
   "cell_type": "markdown",
   "metadata": {},
   "source": []
  },
  {
   "cell_type": "code",
   "execution_count": null,
   "metadata": {},
   "outputs": [],
   "source": [
    "#GETTING_DICTIONARY_KEYS AS___A __LIST.\n",
    "\n",
    "\n",
    "def getList(dict):\n",
    "    list=[]\n",
    "    for key in dict.keys()\n",
    "    \n"
   ]
  },
  {
   "cell_type": "code",
   "execution_count": 2,
   "metadata": {},
   "outputs": [
    {
     "ename": "SyntaxError",
     "evalue": "invalid syntax (<ipython-input-2-35514b9b3362>, line 6)",
     "output_type": "error",
     "traceback": [
      "\u001b[1;36m  File \u001b[1;32m\"<ipython-input-2-35514b9b3362>\"\u001b[1;36m, line \u001b[1;32m6\u001b[0m\n\u001b[1;33m    s1=(s1[::-1])a\u001b[0m\n\u001b[1;37m                 ^\u001b[0m\n\u001b[1;31mSyntaxError\u001b[0m\u001b[1;31m:\u001b[0m invalid syntax\n"
     ]
    }
   ],
   "source": [
    "s='my name  is rahul kumar singh'\n",
    "print(s[::-1])\n",
    "print(s)\n",
    "s1=s.split(' ')\n",
    "print(s1)\n",
    "s1=(s1[::-1])a\n",
    "print(s1)\n",
    "print(' '.join(s1))"
   ]
  },
  {
   "cell_type": "code",
   "execution_count": null,
   "metadata": {},
   "outputs": [],
   "source": [
    "\n",
    "print(\"hello\",  \"10\")"
   ]
  },
  {
   "cell_type": "code",
   "execution_count": null,
   "metadata": {},
   "outputs": [],
   "source": [
    "#Iteration____--------\n",
    "\n",
    "my_list=[20, 40, 50, 60,70, 90, 87]\n",
    "it= iter(my_list)\n",
    "\n",
    "while True:\n",
    "    try:\n",
    "        \n",
    "        print(next(it))\n",
    "    except :\n",
    "        break\n",
    "        \n",
    "              \n",
    "              \n",
    "                "
   ]
  },
  {
   "cell_type": "code",
   "execution_count": null,
   "metadata": {},
   "outputs": [],
   "source": [
    "#GENERATOR IN PYTHON:--------------------\n",
    "\n",
    "def evenNumber(n):\n",
    "    i=1\n",
    "    while n:\n",
    "        yield 2*i\n",
    "        i=i+1\n",
    "        n=n-1\n",
    "it=evenNumber(10)\n",
    "evenList= []\n",
    "while True:\n",
    "    try:\n",
    "        evenList.append(next(it))\n",
    "    except:\n",
    "        break\n",
    "print(evenList)"
   ]
  },
  {
   "cell_type": "code",
   "execution_count": null,
   "metadata": {},
   "outputs": [],
   "source": [
    "def evenNumber(n):\n",
    "    i=1\n",
    "    while n:\n",
    "        yield 2*i\n",
    "        i=i+1\n",
    "        n=n-1\n",
    "it=evenNumber(200)\n",
    "evenList=[]\n",
    "while True:\n",
    "    try:\n",
    "        evenList.append(next(it))\n",
    "    except:\n",
    "        break\n",
    "print(evenList)\n",
    "\n",
    "        \n",
    "    "
   ]
  },
  {
   "cell_type": "code",
   "execution_count": null,
   "metadata": {},
   "outputs": [],
   "source": [
    "def evenNumber(n):\n",
    "    i=1\n",
    "    while n:\n",
    "        yield 2*i\n",
    "        i=i+1\n",
    "        n=n-1\n",
    "it=evenNumber(200)\n",
    "evenList=[]\n",
    "while True:\n",
    "    try:\n",
    "        evenList.append(next(it))\n",
    "    except:\n",
    "        break\n",
    "print(evenList)\n",
    "    "
   ]
  },
  {
   "cell_type": "code",
   "execution_count": null,
   "metadata": {},
   "outputs": [],
   "source": [
    "#FUNCTION OVERLOADING IN PYTHON:----\n",
    "\n",
    "def f1():\n",
    "    print(\"first function\")000\n",
    "\n",
    "\n",
    "\n",
    "def f1(a,b):\n",
    "    print(\"second function\")\n",
    "#f1() it will show an error because the function is change into an  another function  that function have the two argument\n",
    "f1(13, 14)\n"
   ]
  },
  {
   "cell_type": "markdown",
   "metadata": {},
   "source": [
    "# WHAT IS THE NAME MINGLING IN THE PYTHON??? \n",
    "##as we know that mingling means changing of the name in python \n",
    " this happened \" changing of the name of the special variable is know as Mingling\"\n",
    "for eg _ _hr=30(init function with double underscore)\n",
    "\n",
    "\n"
   ]
  },
  {
   "cell_type": "code",
   "execution_count": null,
   "metadata": {},
   "outputs": [],
   "source": []
  },
  {
   "cell_type": "code",
   "execution_count": null,
   "metadata": {},
   "outputs": [],
   "source": [
    "#DEFAULT_ARGUMENT_IN_PYTHON\n",
    "\n",
    "\n",
    "def add(a,b,c=0):\n",
    "    return a+b+c\n",
    "s= add(30,50,67)\n",
    "print(\"sum is\", s)"
   ]
  },
  {
   "cell_type": "code",
   "execution_count": null,
   "metadata": {},
   "outputs": [],
   "source": [
    "s=input(\"enter the  string\")\n",
    "s\n",
    "\n",
    "\n",
    "s1=s.split(\" \")\n",
    "print(s1)\n",
    "lst= [x.capitalize( ) for x in s1]\n",
    "print(lst[0])\n",
    "print(' '.join(lst))"
   ]
  },
  {
   "cell_type": "code",
   "execution_count": null,
   "metadata": {},
   "outputs": [],
   "source": [
    "n=int(input(\"enter the number\"))\n",
    "if n>0:\n",
    "    for i in range(2, n):\n",
    "        if n%i==0:\n",
    "            print(\"not a prime number\")\n",
    "            print(i, \"time\", n//i, \"is\", n)\n",
    "            break\n",
    "    \n",
    "    else:\n",
    "        print(n, \"is an prime number \")\n",
    "        \n",
    "        \n",
    "        \n",
    "        \n",
    "        \n",
    "        \n",
    "        \n",
    "        \n",
    "        \n",
    "        \n",
    "        "
   ]
  },
  {
   "cell_type": "code",
   "execution_count": null,
   "metadata": {},
   "outputs": [],
   "source": [
    "n=int(input(\"enter the number\"))\n",
    "if n>0:\n",
    "    for i in range(2, n):\n",
    "        if n%i==0:\n",
    "            print(n, \"is not an prime number\")\n",
    "            print(i, \"times\", n//i, \"is\", n)\n",
    "            break\n",
    "    else:\n",
    "        print(n, \"prime number\")\n",
    "        "
   ]
  },
  {
   "cell_type": "code",
   "execution_count": null,
   "metadata": {},
   "outputs": [],
   "source": [
    "l=int(input(\"enter the lower range\"))\n",
    "u=int(input(\"enter the upper range\"))\n",
    "for n in range(l, u+1):\n",
    "    for i in range(2, n):\n",
    "        if n%i==0:\n",
    "            break\n",
    "    else:\n",
    "        print(n)"
   ]
  },
  {
   "cell_type": "code",
   "execution_count": null,
   "metadata": {},
   "outputs": [],
   "source": [
    "l=int(input(\"enter the lower range\"))\n",
    "u=int(input(\"enter the upper range\"))\n",
    "for num in range(l, u+1):\n",
    "    for i in range(2, num):\n",
    "        if num%i==0:\n",
    "            break\n",
    "    else:\n",
    "        print(num)"
   ]
  },
  {
   "cell_type": "code",
   "execution_count": null,
   "metadata": {},
   "outputs": [],
   "source": [
    "l=int(input(\"enter the lower range\"))\n",
    "u=int(input(\"enter the upper range\"))\n",
    "for num in range (l, u+1):\n",
    "    for i in range(2, num):\n",
    "        if num%i==0:\n",
    "            break\n",
    "    else:\n",
    "        print(num)\n",
    "    "
   ]
  },
  {
   "cell_type": "code",
   "execution_count": null,
   "metadata": {},
   "outputs": [],
   "source": [
    "s=input(\"enter the string:------\")\n",
    "s1=s.split(' ')\n",
    "lst=[i.capitalize() for i in s1]\n",
    "print((' ').join(lst))"
   ]
  },
  {
   "cell_type": "code",
   "execution_count": null,
   "metadata": {},
   "outputs": [],
   "source": [
    "n=int(input(\"enter the number\"))\n",
    "if n>0:\n",
    "    for i in range(2, n):\n",
    "        if n%i==0:\n",
    "            print(n, \"is not a prime number\")\n",
    "            print(i,\"times\",n//i, \"is\", n)\n",
    "            break\n",
    "    else:\n",
    "        print(\"prime number\")"
   ]
  },
  {
   "cell_type": "code",
   "execution_count": null,
   "metadata": {},
   "outputs": [],
   "source": [
    "n=int(input(\"enter the number\"))\n",
    "temp=n\n",
    "sum=0\n",
    "while temp>0:\n",
    "    digit=temp%10\n",
    "    sum+=digit**3\n",
    "    temp//=10\n",
    "if n==sum:\n",
    "    print(\"armstrong number\")\n",
    "    "
   ]
  },
  {
   "cell_type": "code",
   "execution_count": null,
   "metadata": {},
   "outputs": [],
   "source": [
    "##### armstrong number\n",
    "\n",
    "\n",
    "num=int(input(\"enter the number\"))\n",
    "sum=0\n",
    "temp=num\n",
    "while temp>0:\n",
    "    digit=temp%10\n",
    "    sum+=digit**3\n",
    "    temp//=10\n",
    "if num==sum:\n",
    "        print(\"armstron number\")\n",
    "            "
   ]
  },
  {
   "cell_type": "code",
   "execution_count": null,
   "metadata": {},
   "outputs": [],
   "source": [
    "num=int(input(\"enter the number\"))\n",
    "temp=num\n",
    "sum=0\n",
    "while temp>0:\n",
    "    digit=temp%10\n",
    "    sum+=digit**3\n",
    "    temp//=10\n",
    "if num==sum:\n",
    "    print(\"armstrong number\")"
   ]
  },
  {
   "cell_type": "code",
   "execution_count": null,
   "metadata": {},
   "outputs": [],
   "source": [
    "#mapping in python:---------------\n",
    "\n",
    "def square(n):\n",
    "    return n*n\n",
    "h1=[2,3,4,5,6,7,8,9,10,23,34,45,21]\n",
    "#h1=list(map(square,h1))\n",
    "h1=[i*i for i in h1]\n",
    "h1"
   ]
  },
  {
   "cell_type": "code",
   "execution_count": null,
   "metadata": {},
   "outputs": [],
   "source": [
    "#filter in python:----\n",
    "\n",
    "def greater_than_2(n):\n",
    "    if n>5:\n",
    "        return True\n",
    "    else:\n",
    "        return False\n",
    "h1= [1,2,3,4,5,6,7,8,9,10]\n",
    "greater_th_2= list(filter(greater_than_2, h1))\n",
    "print(greater_th_2)\n"
   ]
  },
  {
   "cell_type": "code",
   "execution_count": null,
   "metadata": {},
   "outputs": [],
   "source": [
    "def greter_than_2(n):\n",
    "    if n>2 and n<8: \n",
    "        return True \n",
    "    else: \n",
    "        False\n",
    "h1=[1,2,3,4,5,6,7,8,9,10]\n",
    "greter_th_2=list(filter(greter_than_2, h1))\n",
    "greter_th_2\n"
   ]
  },
  {
   "cell_type": "code",
   "execution_count": null,
   "metadata": {},
   "outputs": [],
   "source": [
    "from functools import reduce"
   ]
  },
  {
   "cell_type": "code",
   "execution_count": null,
   "metadata": {},
   "outputs": [],
   "source": [
    "from functools import reduce\n",
    "def sum_num(a,b):\n",
    "    return a+b\n",
    "lil= reduce(sum_num,[1,2,3,4,5,6])\n",
    "lil\n"
   ]
  },
  {
   "cell_type": "code",
   "execution_count": null,
   "metadata": {},
   "outputs": [],
   "source": [
    "from functools import reduce\n",
    "def sum(a,b):\n",
    "    return a+b\n",
    "lil= reduce(sum, [10,9,8,7,6,5,4,3,2,1])\n",
    "lil"
   ]
  },
  {
   "cell_type": "code",
   "execution_count": null,
   "metadata": {},
   "outputs": [],
   "source": [
    "list2=[1,2,3,4,5,6,7,9,8,10]\n",
    "print(sum(list2))"
   ]
  },
  {
   "cell_type": "code",
   "execution_count": null,
   "metadata": {},
   "outputs": [],
   "source": [
    "###ANAGRAM IN PYTHON:--------\n",
    "\n",
    "\n",
    "s1='listen'\n",
    "print(sorted(s1))"
   ]
  },
  {
   "cell_type": "code",
   "execution_count": null,
   "metadata": {},
   "outputs": [],
   "source": [
    "s1='silent'\n",
    "print(sorted(s1))"
   ]
  },
  {
   "cell_type": "code",
   "execution_count": null,
   "metadata": {},
   "outputs": [],
   "source": [
    "def check(s1, s2):\n",
    "    if (sorted(s1)==sorted(s2)):\n",
    "        print(\" anagram \\t hai bhaie\")\n",
    "    else:\n",
    "        print(\"not--\")\n",
    "s1=input(\"enter the string\")\n",
    "s2=input(\"enter the string\")\n",
    "check(s1, s2)\n",
    "\n"
   ]
  },
  {
   "cell_type": "code",
   "execution_count": null,
   "metadata": {},
   "outputs": [],
   "source": [
    "from collections import Counter\n",
    "s2='silent'\n",
    "print(Counter(s1))\n"
   ]
  },
  {
   "cell_type": "code",
   "execution_count": null,
   "metadata": {},
   "outputs": [],
   "source": [
    "from collections import Counter\n",
    "s2='listenttttttt'\n",
    "print(Counter(s2))\n"
   ]
  },
  {
   "cell_type": "code",
   "execution_count": null,
   "metadata": {},
   "outputs": [],
   "source": [
    "if Counter(s1)==Counter(s2):\n",
    "    print(\"true\")\n",
    "else:\n",
    "    print(\"false\")"
   ]
  },
  {
   "cell_type": "code",
   "execution_count": null,
   "metadata": {},
   "outputs": [],
   "source": [
    "from collections import Counter\n",
    "def check(s1, s2):\n",
    "    if Counter(s1)==Counter(s2):\n",
    "        print(\"anagram\")\n",
    "    else:\n",
    "        print(\"not anagram\")\n",
    "        \n",
    "s1=input(\"enter the string\")\n",
    "s2   =input(\"enter the string\")\n",
    "check(s1,s2)"
   ]
  },
  {
   "cell_type": "code",
   "execution_count": null,
   "metadata": {},
   "outputs": [],
   "source": [
    "import array\n",
    "a = [1, 2, 3]\n",
    "print(a[-3])\n",
    "print(a[-2])\n",
    "print(a[-1])"
   ]
  },
  {
   "cell_type": "code",
   "execution_count": null,
   "metadata": {},
   "outputs": [],
   "source": [
    "names = ['Chris', 'Jack', 'John', 'Daman']\n",
    "print(names[-1][-1])\n",
    "print(names[-1][-2])\n",
    "print(names[-1][-3])\n",
    "print(names[-1][-4])\n",
    "print(names[-1][-5])"
   ]
  },
  {
   "cell_type": "code",
   "execution_count": null,
   "metadata": {},
   "outputs": [],
   "source": [
    "\n",
    "#enumerate_function:---\n",
    "\n",
    "subjects = ('Python', 'Interview', 'Questions')\n",
    "for i, subject in enumerate(subjects):\n",
    "    print(i, subject)"
   ]
  },
  {
   "cell_type": "code",
   "execution_count": null,
   "metadata": {},
   "outputs": [],
   "source": [
    "names1 = ['Amir', 'Bear', 'Charlton', 'Daman']\n",
    "names2 = names1\n",
    "names3 = names1[:]\n",
    "\n",
    "names2[0] = 'Alice'\n",
    "names3[1] = 'Bob'\n",
    "\n",
    "sum = 0\n",
    "for ls in (names1, names2, names3):\n",
    "    if ls[0] == 'Alice':\n",
    "        sum+= 1\n",
    "\n",
    "    \n",
    "    if ls[1] == 'Bob':\n",
    "        sum+= 10\n",
    "    \n",
    "\n",
    "\n",
    "print(sum)"
   ]
  },
  {
   "cell_type": "code",
   "execution_count": null,
   "metadata": {},
   "outputs": [],
   "source": [
    "def average(*t):\n",
    "    avg=sum(t)/len(t)\n",
    "    print(avg)\n",
    "average(5,6,7,7,9,10)\n"
   ]
  },
  {
   "cell_type": "code",
   "execution_count": null,
   "metadata": {},
   "outputs": [],
   "source": [
    "n=int(input(\"enter the number\"))\n",
    "rev=0\n",
    "while n>0:\n",
    "    digit=n%10\n",
    "    rev=rev*10+digit\n",
    "    n=n//10\n",
    "print(\"the reverse of the number is\",rev)"
   ]
  },
  {
   "cell_type": "code",
   "execution_count": null,
   "metadata": {},
   "outputs": [],
   "source": [
    "n=int(input(\"Enter number: \"))\n",
    "rev=0\n",
    "while(n>0):\n",
    "    dig=n%10\n",
    "    rev=rev*10+dig\n",
    "    n=n//10\n",
    "print(\"The reverse of the number:\",rev)"
   ]
  },
  {
   "cell_type": "code",
   "execution_count": null,
   "metadata": {},
   "outputs": [],
   "source": [
    "#TO FIND THE SUM OF THE DIGIT:_----------\n",
    "\n",
    "n=int(input(\"enter the number\"))\n",
    "sum=0\n",
    "while n>0:\n",
    "    digit=n%10\n",
    "    sum+=digit\n",
    "    n=n//10\n",
    "print(\"The total sum of digits is:\",sum)"
   ]
  },
  {
   "cell_type": "code",
   "execution_count": null,
   "metadata": {},
   "outputs": [],
   "source": [
    "n=int(input(\"enter the number\"))"
   ]
  },
  {
   "cell_type": "code",
   "execution_count": null,
   "metadata": {},
   "outputs": [],
   "source": [
    "n=int(input(\"enter the number\"))\n",
    "temp=n\n",
    "sum=0\n",
    "while temp>0:\n",
    "    digit=temp%10\n",
    "    sum+=digit**3\n",
    "    temp//=10\n",
    "if n==sum:\n",
    "    print(\"armstrong number\")\n",
    "else:\n",
    "    print(\"not armstrong\")\n",
    "    "
   ]
  },
  {
   "cell_type": "code",
   "execution_count": null,
   "metadata": {},
   "outputs": [],
   "source": [
    "##### armstrong number\n",
    "\n",
    "\n",
    "num=int(input(\"enter the number\"))\n",
    "sum=0\n",
    "temp=num\n",
    "while temp>0:\n",
    "    digit=temp%10\n",
    "    sum+=digit**3\n",
    "    temp//=10\n",
    "if num==sum:\n",
    "        print(\"armstron number\")\n",
    "            "
   ]
  },
  {
   "cell_type": "code",
   "execution_count": null,
   "metadata": {},
   "outputs": [],
   "source": [
    "n=int(input(\"Enter number:\"))\n",
    "count=0\n",
    "while(n>0):\n",
    "count=count+1\n",
    "n=n//10\n",
    "print(\"The number of digits in the number is:\",count)"
   ]
  },
  {
   "cell_type": "code",
   "execution_count": null,
   "metadata": {},
   "outputs": [],
   "source": [
    "n=int(input(\"Enter number:\"))\n",
    "count=0\n",
    "while(n>0):\n",
    "count=count+1\n",
    "n=n//10\n",
    "print(\"The number of digits in the number is:\",count)"
   ]
  },
  {
   "cell_type": "code",
   "execution_count": null,
   "metadata": {},
   "outputs": [],
   "source": [
    "#TO FIND THE COMMON LETTER IN STRING\n",
    "\n",
    "\n",
    "s1=input(\"Enter first string:\")\n",
    "s2=input(\"Enter second string:\")\n",
    "a=list(set(s1)&set(s2))\n",
    "print(a)\n",
    "print(\"The common letters are:\")\n",
    "for i in a:\n",
    "    print(i)\n",
    "    \n"
   ]
  },
  {
   "cell_type": "code",
   "execution_count": null,
   "metadata": {},
   "outputs": [],
   "source": [
    "s1=(input(\"enter the string\"))\n",
    "s2=(input(\"enter the  second string\"))\n",
    "s3=list(set(s1) & set(s2))\n",
    "for i in (s3):\n",
    "    print(i)"
   ]
  },
  {
   "cell_type": "code",
   "execution_count": null,
   "metadata": {},
   "outputs": [],
   "source": [
    "def sum(n):\n",
    "    sum=0\n",
    "    for digit in str(n):\n",
    "        sum+=int(digit)\n",
    "    return sum\n",
    "n=1,2,3,4\n",
    "print(get(sum(n)))"
   ]
  },
  {
   "cell_type": "code",
   "execution_count": null,
   "metadata": {},
   "outputs": [],
   "source": [
    "n=int(input(\"enter the number\"))\n",
    "count=0\n",
    "while n>1:\n",
    "    "
   ]
  },
  {
   "cell_type": "code",
   "execution_count": null,
   "metadata": {},
   "outputs": [],
   "source": [
    "n=int(input(\"enter the number\"))\n",
    "count=0\n",
    "while n>0:\n",
    "    count=count+1\n",
    "    n=n//10\n",
    "print(\"The number of digits in the number is:\",count)"
   ]
  },
  {
   "cell_type": "code",
   "execution_count": null,
   "metadata": {},
   "outputs": [],
   "source": [
    "# to count the digit and make sum of it\n",
    "\n",
    "\n",
    "\n",
    "n=int(input(\"enter the number\"))\n",
    "sum=0\n",
    "count=0\n",
    "while n>0:\n",
    "    digit=n%10\n",
    "    sum+=digit\n",
    "    count=count+1\n",
    "    n=n//10\n",
    "print(\"the sum of the number is :\", sum)\n",
    "print(\"count odf this digit :\", count)"
   ]
  },
  {
   "cell_type": "code",
   "execution_count": null,
   "metadata": {},
   "outputs": [],
   "source": [
    "#TO FIND THE TOTAL NUMBER OF POSITIVE NUMBER of the company:----\n",
    "arr=[]\n",
    "rang=int(input(\"ENTER THE RANGE OF THE DAY:----\"))\n",
    "for i in range(1, rang+1):\n",
    "    n=int(input(\"enter the profit and the loss of the day\"))\n",
    "    arr.append(n)\n",
    "print(arr)\n",
    "count=0\n",
    "for i in arr:\n",
    "    if i>0:\n",
    "        count=count+1\n",
    "print(\"the total nuumber  of the profit days are:     \",count)"
   ]
  },
  {
   "cell_type": "code",
   "execution_count": null,
   "metadata": {},
   "outputs": [],
   "source": [
    "#CONVERT THE STRING INTO AN UPPER CASE AND THE LOWER CASE:::-------\n",
    "string=input(\"enter the string::---\")\n",
    "print(string.swapcase())\n",
    "print(string[1].isupper())\n",
    "\n"
   ]
  },
  {
   "cell_type": "code",
   "execution_count": null,
   "metadata": {},
   "outputs": [],
   "source": [
    "s=string.capitalize()"
   ]
  },
  {
   "cell_type": "code",
   "execution_count": null,
   "metadata": {},
   "outputs": [],
   "source": [
    "n=int(input(\"enter the number\"))\n",
    "sum=0\n",
    "count=0\n",
    "while n>0:\n",
    "    digit=n%10\n",
    "    sum+=digit\n",
    "    count=count+1\n",
    "    n=n//10\n",
    "print(\"sum of the digit is \",sum)\n",
    "print(\"count of the digit is \", count)"
   ]
  },
  {
   "cell_type": "code",
   "execution_count": null,
   "metadata": {},
   "outputs": [],
   "source": [
    "s=(input(\"string\\t\"))\n",
    "def solution(s):\n",
    "    string=str(s)\n",
    "    if string[0]=='-':\n",
    "        return int(\"-\"+string[:-1])\n",
    "    else:\n",
    "        return int(string[::-1])\n",
    "print(solution(s))\n",
    "sum=0\n",
    "\n",
    "for i in s:\n",
    "    sum+=i\n",
    "print(sum)`"
   ]
  },
  {
   "cell_type": "code",
   "execution_count": null,
   "metadata": {},
   "outputs": [],
   "source": [
    "#emoji and the color  in python code--------\n",
    "n=int(input(\"enter the number\"))\n",
    "sum=0\n",
    "count=0\n",
    "while n>0:\n",
    "    digit=n%10\n",
    "    sum+=digit\n",
    "    n=n//10\n",
    "    count=count+1\n",
    "print('sum of the digit is {sum} is', sum)\n",
    "print(\"digit of the number {count}\", count)"
   ]
  },
  {
   "cell_type": "code",
   "execution_count": null,
   "metadata": {},
   "outputs": [],
   "source": [
    "print(\"\\033[91m {}\\033[00m\".format(\"Red\"))\n",
    "print(\"\\033[92m {}\\033[00m\".format(\"Green\"))\n",
    "print(\"\\033[93m {}\\033[00m\".format(\"Yellow\"))\n",
    "print(\"\\033[94m {}\\033[00m\".format(\"Purple\"))\n",
    "print(\"\\033[95m {}\\033[00m\".format(\"Cyan\"))\n",
    "print(\"\\033[96m {}\\033[00m\".format(\"Grey\"))\n",
    "\n",
    "print(\"\\U0001F917\")\n",
    "print(\"\\U0001F637\")\n",
    "print(\"\\U0001F62A\")\n",
    "print(\"\\U0001F618\")\n",
    "print(\"\\U0001F600\")"
   ]
  },
  {
   "cell_type": "code",
   "execution_count": null,
   "metadata": {},
   "outputs": [],
   "source": [
    "import cowsay\n",
    "#cowsay.daemon(\"hello doraemon\")\n",
    "cowsay.beavis('hello')\n",
    "cowsay.cow('hi')"
   ]
  },
  {
   "cell_type": "markdown",
   "metadata": {},
   "source": [
    "# PATTERN PROBLEM IN PYTHON:----"
   ]
  },
  {
   "cell_type": "code",
   "execution_count": null,
   "metadata": {},
   "outputs": [],
   "source": [
    "def pattern(n):\n",
    "    count=0\n",
    "    for i in range(n):\n",
    "        count+=1\n",
    "        for j in range(0, i+1):\n",
    "            print(count, end=\" \")\n",
    "        print(\"\\r\")\n",
    "pattern(5)\n"
   ]
  },
  {
   "cell_type": "code",
   "execution_count": null,
   "metadata": {},
   "outputs": [],
   "source": [
    "def pattern(n):\n",
    "    for i in range(n):\n",
    "        for j in range(0,i+1):\n",
    "            print('#', end=' ')\n",
    "        print(\"\\r\")\n",
    "pattern(5)"
   ]
  },
  {
   "cell_type": "code",
   "execution_count": null,
   "metadata": {},
   "outputs": [],
   "source": [
    "n=int(input(\"enter the number\"))\n",
    "for i in range(n):\n",
    "    for j in range(0, i+1):\n",
    "        print(\"*\", end=' ')\n",
    "    print(\"\\r\")\n"
   ]
  },
  {
   "cell_type": "code",
   "execution_count": null,
   "metadata": {},
   "outputs": [],
   "source": [
    "#PRINT THE PATTERN THROUGH A LIST:------\n",
    "def listpattern(n):\n",
    "    list=[]\n",
    "    for i in range(1, n+1):\n",
    "        list.append(\"*\"*i)\n",
    "    print(\"\\n\".join(list))\n",
    "n=5\n",
    "listpattern(n)"
   ]
  },
  {
   "cell_type": "code",
   "execution_count": null,
   "metadata": {},
   "outputs": [],
   "source": [
    "def pattern1(n):\n",
    "    k=2*n-2\n",
    "    for i in range(0,n):\n",
    "        for j in range(0, k):\n",
    "            print(end=\" \")\n",
    "        k=k-2\n",
    "        for i in range(0, i+1):\n",
    "            print(\"#\", end=\" \")\n",
    "        print(\"\\r\")\n",
    "pattern1(5)"
   ]
  },
  {
   "cell_type": "code",
   "execution_count": null,
   "metadata": {},
   "outputs": [],
   "source": [
    "def triangle(n):\n",
    "    k=n-1\n",
    "    for i in range(0, n):\n",
    "        for j in range(0, k):\n",
    "            k=k+1\n",
    "            \n",
    "        \n",
    "        for j in range(0, i+1):\n",
    "            print(\"*\", end=\" \")\n",
    "        print(\"\\r\")\n",
    "triangle(5)"
   ]
  },
  {
   "cell_type": "code",
   "execution_count": null,
   "metadata": {},
   "outputs": [],
   "source": [
    "n=int(input(\"enter the number\"))\n",
    "count=0\n",
    "for i in range(n):\n",
    "    count=1\n",
    "    for j in range(0, i+1):\n",
    "        print(count, end=' ')\n",
    "        count=count+1\n",
    "    print(\"\\r\")\n"
   ]
  },
  {
   "cell_type": "code",
   "execution_count": null,
   "metadata": {},
   "outputs": [],
   "source": [
    "n=int(input(\"enter the number\"))\n",
    "count=1\n",
    "for i in range(0, n):\n",
    "    for j in range(0, i+1):\n",
    "        print(count, end=\" \")\n",
    "        count=count+1\n",
    "    print(\"\\r\")"
   ]
  },
  {
   "cell_type": "code",
   "execution_count": null,
   "metadata": {},
   "outputs": [],
   "source": [
    "def pattern(n):\n",
    "    num=65\n",
    "    for i in range(n):\n",
    "        \n",
    "        for j in range(0, i+1):\n",
    "            ch= chr(num)\n",
    "            print(ch, end=\" \")\n",
    "        num=num+1\n",
    "        print(\"\\r\")\n",
    "pattern(5)\n"
   ]
  },
  {
   "cell_type": "code",
   "execution_count": null,
   "metadata": {},
   "outputs": [],
   "source": [
    "n=int(input(\"enter the number\"))\n",
    "num=65\n",
    "for i in range(0, n):\n",
    "    for j in range(0, i+1):\n",
    "        ch= chr(num)\n",
    "        print(ch, end=\" \")\n",
    "        num=num+1\n",
    "    print(\"\\r\")"
   ]
  },
  {
   "cell_type": "code",
   "execution_count": null,
   "metadata": {},
   "outputs": [],
   "source": [
    "l=[int(x) for x in input(\"enter the number\").split()]\n",
    "a,b=l\n",
    "sum2= a+b\n",
    "print(\"sum is\",sum2)"
   ]
  },
  {
   "cell_type": "code",
   "execution_count": null,
   "metadata": {},
   "outputs": [],
   "source": [
    "x=input(\" \")\n",
    "s=eval(x)\n",
    "s"
   ]
  },
  {
   "cell_type": "code",
   "execution_count": null,
   "metadata": {},
   "outputs": [],
   "source": []
  },
  {
   "cell_type": "code",
   "execution_count": null,
   "metadata": {},
   "outputs": [],
   "source": []
  },
  {
   "cell_type": "code",
   "execution_count": null,
   "metadata": {},
   "outputs": [],
   "source": []
  },
  {
   "cell_type": "code",
   "execution_count": null,
   "metadata": {},
   "outputs": [],
   "source": []
  },
  {
   "cell_type": "code",
   "execution_count": null,
   "metadata": {},
   "outputs": [],
   "source": []
  },
  {
   "cell_type": "code",
   "execution_count": null,
   "metadata": {},
   "outputs": [],
   "source": []
  },
  {
   "cell_type": "code",
   "execution_count": null,
   "metadata": {},
   "outputs": [],
   "source": []
  },
  {
   "cell_type": "code",
   "execution_count": null,
   "metadata": {},
   "outputs": [],
   "source": []
  },
  {
   "cell_type": "code",
   "execution_count": null,
   "metadata": {},
   "outputs": [],
   "source": []
  },
  {
   "cell_type": "code",
   "execution_count": null,
   "metadata": {},
   "outputs": [],
   "source": []
  },
  {
   "cell_type": "code",
   "execution_count": null,
   "metadata": {},
   "outputs": [],
   "source": []
  },
  {
   "cell_type": "code",
   "execution_count": null,
   "metadata": {},
   "outputs": [],
   "source": []
  },
  {
   "cell_type": "code",
   "execution_count": null,
   "metadata": {},
   "outputs": [],
   "source": []
  },
  {
   "cell_type": "code",
   "execution_count": null,
   "metadata": {},
   "outputs": [],
   "source": []
  },
  {
   "cell_type": "code",
   "execution_count": null,
   "metadata": {},
   "outputs": [],
   "source": []
  },
  {
   "cell_type": "code",
   "execution_count": null,
   "metadata": {},
   "outputs": [],
   "source": []
  },
  {
   "cell_type": "code",
   "execution_count": null,
   "metadata": {},
   "outputs": [],
   "source": []
  },
  {
   "cell_type": "code",
   "execution_count": null,
   "metadata": {},
   "outputs": [],
   "source": []
  },
  {
   "cell_type": "code",
   "execution_count": null,
   "metadata": {},
   "outputs": [],
   "source": []
  },
  {
   "cell_type": "code",
   "execution_count": null,
   "metadata": {},
   "outputs": [],
   "source": []
  },
  {
   "cell_type": "code",
   "execution_count": null,
   "metadata": {},
   "outputs": [],
   "source": []
  },
  {
   "cell_type": "code",
   "execution_count": null,
   "metadata": {},
   "outputs": [],
   "source": []
  },
  {
   "cell_type": "code",
   "execution_count": null,
   "metadata": {},
   "outputs": [],
   "source": []
  },
  {
   "cell_type": "code",
   "execution_count": null,
   "metadata": {},
   "outputs": [],
   "source": []
  },
  {
   "cell_type": "code",
   "execution_count": null,
   "metadata": {},
   "outputs": [],
   "source": []
  },
  {
   "cell_type": "code",
   "execution_count": null,
   "metadata": {},
   "outputs": [],
   "source": []
  },
  {
   "cell_type": "code",
   "execution_count": null,
   "metadata": {},
   "outputs": [],
   "source": []
  },
  {
   "cell_type": "code",
   "execution_count": null,
   "metadata": {},
   "outputs": [],
   "source": []
  },
  {
   "cell_type": "code",
   "execution_count": null,
   "metadata": {},
   "outputs": [],
   "source": []
  },
  {
   "cell_type": "code",
   "execution_count": null,
   "metadata": {},
   "outputs": [],
   "source": []
  },
  {
   "cell_type": "code",
   "execution_count": null,
   "metadata": {},
   "outputs": [],
   "source": []
  },
  {
   "cell_type": "code",
   "execution_count": null,
   "metadata": {},
   "outputs": [],
   "source": []
  },
  {
   "cell_type": "code",
   "execution_count": null,
   "metadata": {},
   "outputs": [],
   "source": []
  },
  {
   "cell_type": "code",
   "execution_count": null,
   "metadata": {},
   "outputs": [],
   "source": []
  },
  {
   "cell_type": "code",
   "execution_count": null,
   "metadata": {},
   "outputs": [],
   "source": []
  },
  {
   "cell_type": "code",
   "execution_count": null,
   "metadata": {},
   "outputs": [],
   "source": []
  },
  {
   "cell_type": "code",
   "execution_count": null,
   "metadata": {},
   "outputs": [],
   "source": []
  },
  {
   "cell_type": "code",
   "execution_count": null,
   "metadata": {},
   "outputs": [],
   "source": []
  },
  {
   "cell_type": "code",
   "execution_count": null,
   "metadata": {},
   "outputs": [],
   "source": []
  },
  {
   "cell_type": "code",
   "execution_count": null,
   "metadata": {},
   "outputs": [],
   "source": []
  },
  {
   "cell_type": "code",
   "execution_count": null,
   "metadata": {},
   "outputs": [],
   "source": []
  },
  {
   "cell_type": "code",
   "execution_count": null,
   "metadata": {},
   "outputs": [],
   "source": []
  },
  {
   "cell_type": "code",
   "execution_count": null,
   "metadata": {},
   "outputs": [],
   "source": []
  },
  {
   "cell_type": "code",
   "execution_count": null,
   "metadata": {},
   "outputs": [],
   "source": []
  },
  {
   "cell_type": "code",
   "execution_count": null,
   "metadata": {},
   "outputs": [],
   "source": []
  },
  {
   "cell_type": "code",
   "execution_count": null,
   "metadata": {},
   "outputs": [],
   "source": []
  },
  {
   "cell_type": "code",
   "execution_count": null,
   "metadata": {},
   "outputs": [],
   "source": []
  },
  {
   "cell_type": "code",
   "execution_count": null,
   "metadata": {},
   "outputs": [],
   "source": []
  },
  {
   "cell_type": "code",
   "execution_count": null,
   "metadata": {},
   "outputs": [],
   "source": []
  },
  {
   "cell_type": "code",
   "execution_count": null,
   "metadata": {},
   "outputs": [],
   "source": []
  },
  {
   "cell_type": "code",
   "execution_count": null,
   "metadata": {},
   "outputs": [],
   "source": []
  },
  {
   "cell_type": "code",
   "execution_count": null,
   "metadata": {},
   "outputs": [],
   "source": []
  },
  {
   "cell_type": "code",
   "execution_count": null,
   "metadata": {},
   "outputs": [],
   "source": []
  },
  {
   "cell_type": "code",
   "execution_count": null,
   "metadata": {},
   "outputs": [],
   "source": []
  },
  {
   "cell_type": "code",
   "execution_count": null,
   "metadata": {},
   "outputs": [],
   "source": []
  },
  {
   "cell_type": "code",
   "execution_count": null,
   "metadata": {},
   "outputs": [],
   "source": []
  },
  {
   "cell_type": "code",
   "execution_count": null,
   "metadata": {},
   "outputs": [],
   "source": []
  },
  {
   "cell_type": "code",
   "execution_count": null,
   "metadata": {},
   "outputs": [],
   "source": []
  },
  {
   "cell_type": "code",
   "execution_count": null,
   "metadata": {},
   "outputs": [],
   "source": []
  },
  {
   "cell_type": "code",
   "execution_count": null,
   "metadata": {},
   "outputs": [],
   "source": []
  },
  {
   "cell_type": "code",
   "execution_count": null,
   "metadata": {},
   "outputs": [],
   "source": []
  },
  {
   "cell_type": "code",
   "execution_count": null,
   "metadata": {},
   "outputs": [],
   "source": []
  },
  {
   "cell_type": "code",
   "execution_count": null,
   "metadata": {},
   "outputs": [],
   "source": []
  },
  {
   "cell_type": "code",
   "execution_count": null,
   "metadata": {},
   "outputs": [],
   "source": []
  },
  {
   "cell_type": "code",
   "execution_count": null,
   "metadata": {},
   "outputs": [],
   "source": []
  },
  {
   "cell_type": "code",
   "execution_count": null,
   "metadata": {},
   "outputs": [],
   "source": []
  },
  {
   "cell_type": "code",
   "execution_count": null,
   "metadata": {},
   "outputs": [],
   "source": []
  },
  {
   "cell_type": "code",
   "execution_count": null,
   "metadata": {},
   "outputs": [],
   "source": []
  },
  {
   "cell_type": "code",
   "execution_count": null,
   "metadata": {},
   "outputs": [],
   "source": []
  },
  {
   "cell_type": "code",
   "execution_count": null,
   "metadata": {},
   "outputs": [],
   "source": []
  },
  {
   "cell_type": "code",
   "execution_count": null,
   "metadata": {},
   "outputs": [],
   "source": []
  },
  {
   "cell_type": "code",
   "execution_count": null,
   "metadata": {},
   "outputs": [],
   "source": []
  },
  {
   "cell_type": "code",
   "execution_count": null,
   "metadata": {},
   "outputs": [],
   "source": []
  },
  {
   "cell_type": "code",
   "execution_count": null,
   "metadata": {},
   "outputs": [],
   "source": []
  },
  {
   "cell_type": "code",
   "execution_count": null,
   "metadata": {},
   "outputs": [],
   "source": []
  },
  {
   "cell_type": "code",
   "execution_count": null,
   "metadata": {},
   "outputs": [],
   "source": []
  },
  {
   "cell_type": "code",
   "execution_count": null,
   "metadata": {},
   "outputs": [],
   "source": []
  },
  {
   "cell_type": "code",
   "execution_count": null,
   "metadata": {},
   "outputs": [],
   "source": []
  },
  {
   "cell_type": "code",
   "execution_count": null,
   "metadata": {},
   "outputs": [],
   "source": []
  },
  {
   "cell_type": "code",
   "execution_count": null,
   "metadata": {},
   "outputs": [],
   "source": []
  },
  {
   "cell_type": "code",
   "execution_count": null,
   "metadata": {},
   "outputs": [],
   "source": []
  },
  {
   "cell_type": "code",
   "execution_count": null,
   "metadata": {},
   "outputs": [],
   "source": []
  },
  {
   "cell_type": "code",
   "execution_count": null,
   "metadata": {},
   "outputs": [],
   "source": []
  },
  {
   "cell_type": "code",
   "execution_count": null,
   "metadata": {},
   "outputs": [],
   "source": []
  },
  {
   "cell_type": "code",
   "execution_count": null,
   "metadata": {},
   "outputs": [],
   "source": []
  },
  {
   "cell_type": "code",
   "execution_count": null,
   "metadata": {},
   "outputs": [],
   "source": []
  },
  {
   "cell_type": "code",
   "execution_count": null,
   "metadata": {},
   "outputs": [],
   "source": []
  },
  {
   "cell_type": "code",
   "execution_count": null,
   "metadata": {},
   "outputs": [],
   "source": []
  },
  {
   "cell_type": "code",
   "execution_count": null,
   "metadata": {},
   "outputs": [],
   "source": []
  },
  {
   "cell_type": "code",
   "execution_count": null,
   "metadata": {},
   "outputs": [],
   "source": []
  },
  {
   "cell_type": "code",
   "execution_count": null,
   "metadata": {},
   "outputs": [],
   "source": []
  },
  {
   "cell_type": "code",
   "execution_count": null,
   "metadata": {},
   "outputs": [],
   "source": []
  },
  {
   "cell_type": "code",
   "execution_count": null,
   "metadata": {},
   "outputs": [],
   "source": []
  },
  {
   "cell_type": "code",
   "execution_count": null,
   "metadata": {},
   "outputs": [],
   "source": []
  },
  {
   "cell_type": "code",
   "execution_count": null,
   "metadata": {},
   "outputs": [],
   "source": []
  },
  {
   "cell_type": "code",
   "execution_count": null,
   "metadata": {},
   "outputs": [],
   "source": []
  },
  {
   "cell_type": "code",
   "execution_count": null,
   "metadata": {},
   "outputs": [],
   "source": []
  },
  {
   "cell_type": "code",
   "execution_count": null,
   "metadata": {},
   "outputs": [],
   "source": []
  },
  {
   "cell_type": "code",
   "execution_count": null,
   "metadata": {},
   "outputs": [],
   "source": []
  },
  {
   "cell_type": "code",
   "execution_count": null,
   "metadata": {},
   "outputs": [],
   "source": []
  },
  {
   "cell_type": "code",
   "execution_count": null,
   "metadata": {},
   "outputs": [],
   "source": []
  },
  {
   "cell_type": "code",
   "execution_count": null,
   "metadata": {},
   "outputs": [],
   "source": []
  },
  {
   "cell_type": "code",
   "execution_count": null,
   "metadata": {},
   "outputs": [],
   "source": []
  },
  {
   "cell_type": "code",
   "execution_count": null,
   "metadata": {},
   "outputs": [],
   "source": []
  },
  {
   "cell_type": "code",
   "execution_count": null,
   "metadata": {},
   "outputs": [],
   "source": []
  },
  {
   "cell_type": "code",
   "execution_count": null,
   "metadata": {},
   "outputs": [],
   "source": [
    "\n"
   ]
  },
  {
   "cell_type": "code",
   "execution_count": null,
   "metadata": {},
   "outputs": [],
   "source": []
  },
  {
   "cell_type": "code",
   "execution_count": null,
   "metadata": {},
   "outputs": [],
   "source": []
  },
  {
   "cell_type": "code",
   "execution_count": null,
   "metadata": {},
   "outputs": [],
   "source": []
  },
  {
   "cell_type": "code",
   "execution_count": null,
   "metadata": {},
   "outputs": [],
   "source": []
  },
  {
   "cell_type": "code",
   "execution_count": null,
   "metadata": {},
   "outputs": [],
   "source": []
  },
  {
   "cell_type": "code",
   "execution_count": null,
   "metadata": {},
   "outputs": [],
   "source": []
  },
  {
   "cell_type": "code",
   "execution_count": null,
   "metadata": {},
   "outputs": [],
   "source": []
  },
  {
   "cell_type": "code",
   "execution_count": null,
   "metadata": {},
   "outputs": [],
   "source": []
  },
  {
   "cell_type": "code",
   "execution_count": null,
   "metadata": {},
   "outputs": [],
   "source": []
  },
  {
   "cell_type": "code",
   "execution_count": null,
   "metadata": {},
   "outputs": [],
   "source": []
  },
  {
   "cell_type": "code",
   "execution_count": null,
   "metadata": {},
   "outputs": [],
   "source": []
  },
  {
   "cell_type": "code",
   "execution_count": null,
   "metadata": {},
   "outputs": [],
   "source": []
  },
  {
   "cell_type": "code",
   "execution_count": null,
   "metadata": {},
   "outputs": [],
   "source": []
  },
  {
   "cell_type": "code",
   "execution_count": null,
   "metadata": {},
   "outputs": [],
   "source": []
  },
  {
   "cell_type": "code",
   "execution_count": null,
   "metadata": {},
   "outputs": [],
   "source": [
    "\n"
   ]
  },
  {
   "cell_type": "code",
   "execution_count": null,
   "metadata": {},
   "outputs": [],
   "source": []
  },
  {
   "cell_type": "code",
   "execution_count": null,
   "metadata": {},
   "outputs": [],
   "source": []
  },
  {
   "cell_type": "code",
   "execution_count": null,
   "metadata": {},
   "outputs": [],
   "source": []
  },
  {
   "cell_type": "code",
   "execution_count": null,
   "metadata": {},
   "outputs": [],
   "source": []
  },
  {
   "cell_type": "code",
   "execution_count": null,
   "metadata": {},
   "outputs": [],
   "source": []
  }
 ],
 "metadata": {
  "kernelspec": {
   "display_name": "Python 3",
   "language": "python",
   "name": "python3"
  },
  "language_info": {
   "codemirror_mode": {
    "name": "ipython",
    "version": 3
   },
   "file_extension": ".py",
   "mimetype": "text/x-python",
   "name": "python",
   "nbconvert_exporter": "python",
   "pygments_lexer": "ipython3",
   "version": "3.8.8"
  }
 },
 "nbformat": 4,
 "nbformat_minor": 2
}
