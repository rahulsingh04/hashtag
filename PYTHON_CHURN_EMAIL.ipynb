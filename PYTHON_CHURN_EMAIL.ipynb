{
 "cells": [
  {
   "cell_type": "code",
   "execution_count": null,
   "metadata": {},
   "outputs": [],
   "source": [
    "with open(\"E:/github/GitHub/ml/python/mbox-short.txt\") as f:\n",
    "    s=\" \"\n",
    "    for line in f:\n",
    "        s=s+line\n",
    "        print(line)"
   ]
  },
  {
   "cell_type": "code",
   "execution_count": null,
   "metadata": {},
   "outputs": [],
   "source": [
    "with open(\"E:/github/GitHub/ml/python/mbox-short.txt\") as f:\n",
    "    s=\" \"\n",
    "    count=0\n",
    "    for line in f:\n",
    "        s=s+line\n",
    "        count+=1\n",
    "print(\"THE TOTAL NUMBER OF THE LINE ARE:-------\", count)"
   ]
  },
  {
   "cell_type": "code",
   "execution_count": null,
   "metadata": {},
   "outputs": [],
   "source": [
    "#if line starts with the subject:---------\n",
    "\n",
    "with open(\"E:/github/GitHub/ml/python/mbox-short.txt\") as f:\n",
    "    s=\" \"\n",
    "    countf=0\n",
    "    for line in f:\n",
    "        if line.startswith('From'):\n",
    "            #print(line.split(' ')[2])\n",
    "            countf+=1\n",
    "print('THE LINE STARTS WITH THE From are the ', countf )"
   ]
  },
  {
   "cell_type": "code",
   "execution_count": null,
   "metadata": {},
   "outputs": [],
   "source": [
    "with open(\"E:/github/GitHub/ml/python/mbox-short.txt\") as f:\n",
    "    s=\" \"\n",
    "    span_confidence_sum=0\n",
    "    span_confidence_sum1=0\n",
    "    for line in f:\n",
    "        if line.startswith(\"X-DSPAM-Confidence:\"):\n",
    "            span_confidence_sum+=1\n",
    "            var,value=line.split(\":\")\n",
    "            \n",
    "            span_confidence_sum1=span_confidence_sum1+float(value)\n",
    "print(var)           \n",
    "\n",
    "print(value)\n",
    "print(\"span_confidence_sum\", span_confidence_sum)      \n",
    "\n",
    "print(\"----------------------------------------------------------------\")\n",
    "print(\"span_confidence_value which is in the float:::----\", span_confidence_sum1)           \n",
    "        "
   ]
  },
  {
   "cell_type": "code",
   "execution_count": 3,
   "metadata": {},
   "outputs": [
    {
     "name": "stdout",
     "output_type": "stream",
     "text": [
      "{'Sat': 1, 'Fri': 20, 'Thu': 6}\n"
     ]
    }
   ],
   "source": [
    "import re\n",
    "with open(\"E:/github/GitHub/ml/python/mbox-short.txt\") as f:\n",
    "    day_dict={}\n",
    "    dayofweek=''\n",
    "    for line in f:\n",
    "        if re.findall('From ', line):\n",
    "            \n",
    "            dayofweek=line.split(' ')[2]\n",
    "            day_of_week=line.split(' ')[2]\n",
    "            day_dict[dayofweek]=day_dict.get(dayofweek, 0)+1\n",
    "print(day_dict)"
   ]
  },
  {
   "cell_type": "code",
   "execution_count": null,
   "metadata": {},
   "outputs": [],
   "source": [
    "with open(\"E:/github/GitHub/ml/python/mbox-short.txt\") as f:\n",
    "            #content=f.readlines()            \n",
    "            day_dict={}\n",
    "            dayofweek=''\n",
    "            for line in f:\n",
    "                #if re.findall('From',line):\n",
    "                    #print(line)\n",
    "                    dayofweek=line.split(' ')[2]\n",
    "                    \n",
    "                    day_dict[dayofweek]= day_dict.get(dayofweek,0) + 1 \n",
    "print(day_dict)"
   ]
  },
  {
   "cell_type": "code",
   "execution_count": 4,
   "metadata": {},
   "outputs": [
    {
     "name": "stdout",
     "output_type": "stream",
     "text": [
      "{'Sat': 1, 'Fri': 20, 'Thu': 6}\n"
     ]
    }
   ],
   "source": [
    "import re\n",
    "with open(\"E:/github/GitHub/ml/python/mbox-short.txt\") as f:\n",
    "            #content=f.readlines()            \n",
    "            day_dict={}\n",
    "            dayofweek=''\n",
    "            for line in f:\n",
    "                if re.findall('From ',line):\n",
    "                    dayofweek=line.split(' ')[2]\n",
    "                    \n",
    "                    day_dict[dayofweek]= day_dict.get(dayofweek,0) + 1 \n",
    "print(day_dict)"
   ]
  },
  {
   "cell_type": "code",
   "execution_count": 14,
   "metadata": {},
   "outputs": [
    {
     "name": "stdout",
     "output_type": "stream",
     "text": [
      "{'Sat': 1, 'Fri': 20, 'Thu': 6}\n"
     ]
    }
   ],
   "source": [
    "import re\n",
    "with open(\"E:/github/GitHub/ml/python/mbox-short.txt\") as f:\n",
    "    day_dict={}\n",
    "    dayofweek=' '\n",
    "    for line in f:\n",
    "        if re.findall('From ',line):\n",
    "            dayofweek=line.split(' ')[2]\n",
    "            day_dict[dayofweek]=day_dict.get(dayofweek, 0)+1\n",
    "print(day_dict)\n",
    "            "
   ]
  },
  {
   "cell_type": "code",
   "execution_count": 38,
   "metadata": {},
   "outputs": [
    {
     "name": "stdout",
     "output_type": "stream",
     "text": [
      "{'stephen.marquard@uct.ac.za': 4, 'louis@media.berkeley.edu': 6, 'zqian@umich.edu': 8, 'rjlowe@iupui.edu': 4, 'cwen@iupui.edu': 10, 'gsilver@umich.edu': 6, 'wagnermr@iupui.edu': 2, 'antranig@caret.cam.ac.uk': 2, 'gopal.ramasammycook@gmail.com': 2, 'david.horwitz@uct.ac.za': 8, 'ray@media.berkeley.edu': 2}\n"
     ]
    }
   ],
   "source": [
    "with open(\"E:/github/GitHub/ml/python/mbox-short.txt\") as f:\n",
    "    s=\" \"\n",
    "    dict={}\n",
    "    for line in f:\n",
    "        #s=s+line\n",
    "        #print(line)\n",
    "        if line.startswith('From') and('@'):\n",
    "            #print(line.split(' ')[1])\n",
    "            sp=line.split()\n",
    "            #print(sp[1])\n",
    "            email=sp[1]\n",
    "            #print(email)\n",
    "            dict[email]=dict.get(email, 0)+1\n",
    "    print(dict)"
   ]
  },
  {
   "cell_type": "code",
   "execution_count": 83,
   "metadata": {},
   "outputs": [
    {
     "name": "stdout",
     "output_type": "stream",
     "text": [
      "uct.ac.za Sat Jan  5 09:14:16 2008\n",
      "\n",
      "uct.ac.za\n",
      "\n",
      "media.berkeley.edu Fri Jan  4 18:10:48 2008\n",
      "\n",
      "media.berkeley.edu\n",
      "\n",
      "umich.edu Fri Jan  4 16:10:39 2008\n",
      "\n",
      "umich.edu\n",
      "\n",
      "iupui.edu Fri Jan  4 15:46:24 2008\n",
      "\n",
      "iupui.edu\n",
      "\n",
      "umich.edu Fri Jan  4 15:03:18 2008\n",
      "\n",
      "umich.edu\n",
      "\n",
      "iupui.edu Fri Jan  4 14:50:18 2008\n",
      "\n",
      "iupui.edu\n",
      "\n",
      "iupui.edu Fri Jan  4 11:37:30 2008\n",
      "\n",
      "iupui.edu\n",
      "\n",
      "iupui.edu Fri Jan  4 11:35:08 2008\n",
      "\n",
      "iupui.edu\n",
      "\n",
      "umich.edu Fri Jan  4 11:12:37 2008\n",
      "\n",
      "umich.edu\n",
      "\n",
      "umich.edu Fri Jan  4 11:11:52 2008\n",
      "\n",
      "umich.edu\n",
      "\n",
      "umich.edu Fri Jan  4 11:11:03 2008\n",
      "\n",
      "umich.edu\n",
      "\n",
      "umich.edu Fri Jan  4 11:10:22 2008\n",
      "\n",
      "umich.edu\n",
      "\n",
      "iupui.edu Fri Jan  4 10:38:42 2008\n",
      "\n",
      "iupui.edu\n",
      "\n",
      "umich.edu Fri Jan  4 10:17:43 2008\n",
      "\n",
      "umich.edu\n",
      "\n",
      "caret.cam.ac.uk Fri Jan  4 10:04:14 2008\n",
      "\n",
      "caret.cam.ac.uk\n",
      "\n",
      "gmail.com Fri Jan  4 09:05:31 2008\n",
      "\n",
      "gmail.com\n",
      "\n",
      "uct.ac.za Fri Jan  4 07:02:32 2008\n",
      "\n",
      "uct.ac.za\n",
      "\n",
      "uct.ac.za Fri Jan  4 06:08:27 2008\n",
      "\n",
      "uct.ac.za\n",
      "\n",
      "uct.ac.za Fri Jan  4 04:49:08 2008\n",
      "\n",
      "uct.ac.za\n",
      "\n",
      "uct.ac.za Fri Jan  4 04:33:44 2008\n",
      "\n",
      "uct.ac.za\n",
      "\n",
      "uct.ac.za Fri Jan  4 04:07:34 2008\n",
      "\n",
      "uct.ac.za\n",
      "\n",
      "media.berkeley.edu Thu Jan  3 19:51:21 2008\n",
      "\n",
      "media.berkeley.edu\n",
      "\n",
      "media.berkeley.edu Thu Jan  3 17:18:23 2008\n",
      "\n",
      "media.berkeley.edu\n",
      "\n",
      "media.berkeley.edu Thu Jan  3 17:07:00 2008\n",
      "\n",
      "media.berkeley.edu\n",
      "\n",
      "iupui.edu Thu Jan  3 16:34:40 2008\n",
      "\n",
      "iupui.edu\n",
      "\n",
      "iupui.edu Thu Jan  3 16:29:07 2008\n",
      "\n",
      "iupui.edu\n",
      "\n",
      "iupui.edu Thu Jan  3 16:23:48 2008\n",
      "\n",
      "iupui.edu\n",
      "\n",
      "{'uct.ac.za Sat Jan  5 09:14:16 2008\\n': 1, 'uct.ac.za\\n': 6, 'media.berkeley.edu Fri Jan  4 18:10:48 2008\\n': 1, 'media.berkeley.edu\\n': 4, 'umich.edu Fri Jan  4 16:10:39 2008\\n': 1, 'umich.edu\\n': 7, 'iupui.edu Fri Jan  4 15:46:24 2008\\n': 1, 'iupui.edu\\n': 8, 'umich.edu Fri Jan  4 15:03:18 2008\\n': 1, 'iupui.edu Fri Jan  4 14:50:18 2008\\n': 1, 'iupui.edu Fri Jan  4 11:37:30 2008\\n': 1, 'iupui.edu Fri Jan  4 11:35:08 2008\\n': 1, 'umich.edu Fri Jan  4 11:12:37 2008\\n': 1, 'umich.edu Fri Jan  4 11:11:52 2008\\n': 1, 'umich.edu Fri Jan  4 11:11:03 2008\\n': 1, 'umich.edu Fri Jan  4 11:10:22 2008\\n': 1, 'iupui.edu Fri Jan  4 10:38:42 2008\\n': 1, 'umich.edu Fri Jan  4 10:17:43 2008\\n': 1, 'caret.cam.ac.uk Fri Jan  4 10:04:14 2008\\n': 1, 'caret.cam.ac.uk\\n': 1, 'gmail.com Fri Jan  4 09:05:31 2008\\n': 1, 'gmail.com\\n': 1, 'uct.ac.za Fri Jan  4 07:02:32 2008\\n': 1, 'uct.ac.za Fri Jan  4 06:08:27 2008\\n': 1, 'uct.ac.za Fri Jan  4 04:49:08 2008\\n': 1, 'uct.ac.za Fri Jan  4 04:33:44 2008\\n': 1, 'uct.ac.za Fri Jan  4 04:07:34 2008\\n': 1, 'media.berkeley.edu Thu Jan  3 19:51:21 2008\\n': 1, 'media.berkeley.edu Thu Jan  3 17:18:23 2008\\n': 1, 'media.berkeley.edu Thu Jan  3 17:07:00 2008\\n': 1, 'iupui.edu Thu Jan  3 16:34:40 2008\\n': 1, 'iupui.edu Thu Jan  3 16:29:07 2008\\n': 1, 'iupui.edu Thu Jan  3 16:23:48 2008\\n': 1}\n"
     ]
    }
   ],
   "source": [
    "#to count the number of the message from  each domain:---------\n",
    "\n",
    "\n",
    "with open(\"E:/github/GitHub/ml/python/mbox-short.txt\") as f:\n",
    "    s=\" \"\n",
    "    dictionary={}\n",
    "    for line  in f:\n",
    "         if line.startswith('From') :\n",
    "            #print(line)\n",
    "            sp=line.split('@')[1]\n",
    "            print(sp)\n",
    "            if sp not in dictionary:\n",
    "                dictionary[sp]=1\n",
    "            else:\n",
    "                dictionary[sp]+=1\n",
    "print(dictionary)\n",
    "                \n",
    "                \n",
    "            #x=sp[0]\n",
    "            #print(x)\n",
    "            #y=x.split(\"..\")\n",
    "            #print(y)\n",
    "            \n",
    "            \n",
    "            \n",
    "            "
   ]
  },
  {
   "cell_type": "code",
   "execution_count": null,
   "metadata": {},
   "outputs": [],
   "source": []
  }
 ],
 "metadata": {
  "kernelspec": {
   "display_name": "Python 3",
   "language": "python",
   "name": "python3"
  },
  "language_info": {
   "codemirror_mode": {
    "name": "ipython",
    "version": 3
   },
   "file_extension": ".py",
   "mimetype": "text/x-python",
   "name": "python",
   "nbconvert_exporter": "python",
   "pygments_lexer": "ipython3",
   "version": "3.8.8"
  }
 },
 "nbformat": 4,
 "nbformat_minor": 2
}
